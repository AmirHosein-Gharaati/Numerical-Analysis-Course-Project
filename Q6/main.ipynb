{
 "cells": [
  {
   "cell_type": "markdown",
   "metadata": {},
   "source": [
    "<div dir=\"rtl\">\n",
    "    <p>برنامه‌ای بنویسید که با استفاده از روش توانی و توانی معکوس، مقادیر ویژه با بزرگترین و کوچکترین مقدار قدر مطلق را برای ماتریس A محاسبه و در خروجی چاپ نمیاد</p>\n",
    "    <p>باید در ۴ حالت ممکن جواب را بررسی کرده و با توجه به مقدار خطا، جواب را بدست بیاوریم.</p>\n",
    "    <p>ماتریس A:</p>\n",
    "</div>"
   ]
  },
  {
   "cell_type": "code",
   "execution_count": 3,
   "metadata": {},
   "outputs": [],
   "source": [
    "import numpy as np\n",
    "\n",
    "A = np.matrix([\n",
    "    [9, -3, -6],\n",
    "    [2, 8, 2],\n",
    "    [-5, 10, 7]\n",
    "])"
   ]
  },
  {
   "cell_type": "markdown",
   "metadata": {},
   "source": [
    "<div dir=\"rtl\">\n",
    "    <h2>روش توانی</h2>\n",
    "    <p>حدس اولیه را برابر [1 ,1 ,1] میگیریم</p>\n",
    "    <p>در روش توانی، ماتریس A را در x ضرب میکنیم. سپس برای مقدار e، کافی است ماکزیمم آرایه را در نظر گرفته و برای x جدید، آن را بر e_i تقسیم میکنیم</p>\n",
    "    <p>در نهایت میتوانیم کمترین مقدار ویژه را بدست آوریم.</p>\n",
    "</div>"
   ]
  },
  {
   "cell_type": "code",
   "execution_count": 14,
   "metadata": {},
   "outputs": [
    {
     "name": "stdout",
     "output_type": "stream",
     "text": [
      "13.035693713353377\n"
     ]
    }
   ],
   "source": [
    "x = np.matrix([\n",
    "    [1],\n",
    "    [1],\n",
    "    [1]\n",
    "])\n",
    "n = 10\n",
    "e_list = np.array([])\n",
    "\n",
    "for i in range(1, n+1):\n",
    "    new_x = np.matmul(A, x)\n",
    "    e_list = np.append(e_list, new_x.max())\n",
    "    x = np.divide(new_x, e_list[-1])\n",
    "\n",
    "lambda_max = e_list[-1]\n",
    "\n",
    "print(lambda_max)"
   ]
  },
  {
   "cell_type": "markdown",
   "metadata": {},
   "source": [
    "<div dir=\"rtl\">\n",
    "    <h3>روش توانی معکوس</h3>\n",
    "    <p>حدس اولیه را برابر [1 ,1 ,1] میگیریم</p>\n",
    "    <p>شبیه مورد قبل عمل میکنیم. اما با این تفاوت که معکوس A در محاسبه در نظر میگیریم.</p>\n",
    "    <p>در نهایت میتوانیم کمترین مقدار ویژه را بدست آوریم.</p>\n",
    "</div>"
   ]
  },
  {
   "cell_type": "code",
   "execution_count": 18,
   "metadata": {},
   "outputs": [
    {
     "name": "stdout",
     "output_type": "stream",
     "text": [
      "0.2554373534619695\n"
     ]
    }
   ],
   "source": [
    "import numpy as np\n",
    "\n",
    "A = np.matrix([\n",
    "    [9, -3, -6],\n",
    "    [2, 8, 2],\n",
    "    [-5, 10, 7]\n",
    "])\n",
    "\n",
    "A_invers = np.linalg.inv(A)\n",
    "\n",
    "x = np.matrix([\n",
    "    [1],\n",
    "    [1],\n",
    "    [1]\n",
    "])\n",
    "n = 10\n",
    "e_list = np.array([])\n",
    "\n",
    "for i in range(1, n+1):\n",
    "    new_x = np.matmul(A_invers, x)\n",
    "    e_list = np.append(e_list, new_x.max())\n",
    "    x = np.divide(new_x, e_list[-1])\n",
    "\n",
    "lambda_min = 1/e_list[-1]\n",
    "print(lambda_min)"
   ]
  }
 ],
 "metadata": {
  "kernelspec": {
   "display_name": "Python 3.10.2 64-bit",
   "language": "python",
   "name": "python3"
  },
  "language_info": {
   "codemirror_mode": {
    "name": "ipython",
    "version": 3
   },
   "file_extension": ".py",
   "mimetype": "text/x-python",
   "name": "python",
   "nbconvert_exporter": "python",
   "pygments_lexer": "ipython3",
   "version": "3.10.2"
  },
  "orig_nbformat": 4,
  "vscode": {
   "interpreter": {
    "hash": "e7370f93d1d0cde622a1f8e1c04877d8463912d04d973331ad4851f04de6915a"
   }
  }
 },
 "nbformat": 4,
 "nbformat_minor": 2
}
