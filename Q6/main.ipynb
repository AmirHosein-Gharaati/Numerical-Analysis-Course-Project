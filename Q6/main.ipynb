{
 "cells": [
  {
   "cell_type": "markdown",
   "metadata": {},
   "source": [
    "<div dir=\"rtl\">\n",
    "    <h5>برنامه‌ای بنویسید که با استفاده از روش توانی و توانی معکوس، مقادیر ویژه با بزرگترین و کوچکترین مقدار قدر مطلق را برای ماتریس A محاسبه و در خروجی چاپ نمیاد</h5>\n",
    "    <h5>باید در ۴ حالت ممکن جواب را بررسی کرده و با توجه به مقدار خطا، جواب را بدست بیاوریم.</h5>\n",
    "    <h5>ماتریس A:</h5>\n",
    "</div>"
   ]
  },
  {
   "cell_type": "code",
   "execution_count": 100,
   "metadata": {},
   "outputs": [],
   "source": [
    "import numpy as np\n",
    "\n",
    "A = np.matrix([\n",
    "    [9, -3, -6],\n",
    "    [2, 8, 2],\n",
    "    [-5, 10, 7]\n",
    "])"
   ]
  },
  {
   "cell_type": "markdown",
   "metadata": {},
   "source": [
    "<div dir=\"rtl\">\n",
    "    <h2>روش توانی</h2>\n",
    "    <h5>حدس اولیه را برابر [1 ,1 ,1] میگیریم</h5>\n",
    "    <h5>در روش توانی، ما مقدار ماکزیمم را بدست می‌آوریم اما این نکته را در نظر داریم که یک بار فرض میکنیم ماتریس ما، مثبت معین است و یک بار منفی معین. سپس مقادیر را بدست می‌آوریم.</h5>\n",
    "</div>"
   ]
  },
  {
   "cell_type": "code",
   "execution_count": 101,
   "metadata": {},
   "outputs": [],
   "source": [
    "x = np.matrix([\n",
    "    [1],\n",
    "    [1],\n",
    "    [1]\n",
    "])\n",
    "\n",
    "n = 10"
   ]
  },
  {
   "cell_type": "markdown",
   "metadata": {},
   "source": [
    "<div dir=\"rtl\">\n",
    "    <h3>مقدار ماکزیمم</h3>\n",
    "    <h4>مثبت معین</h4>\n",
    "    <h5>با فرض اینکه ماتریس ما مثبت معین است، ماتریس A را در x ضرب میکنیم. سپس برای مقدار e، کافی است ماکزیمم آرایه را در نظر گرفته و برای x جدید، آن را بر e_i تقسیم میکنیم.</h5>\n",
    "</div>"
   ]
  },
  {
   "cell_type": "code",
   "execution_count": 102,
   "metadata": {},
   "outputs": [
    {
     "name": "stdout",
     "output_type": "stream",
     "text": [
      "13.035693713353377\n"
     ]
    }
   ],
   "source": [
    "e_list_max = np.array([])\n",
    "\n",
    "for i in range(1, n+1):\n",
    "    new_x = np.matmul(A, x)\n",
    "    e_list_max = np.append(e_list_max, new_x.max())\n",
    "    x = np.divide(new_x, e_list_max[-1])\n",
    "\n",
    "lambda_max_positive = e_list_max[-1]\n",
    "\n",
    "print(lambda_max_positive)\n"
   ]
  },
  {
   "cell_type": "markdown",
   "metadata": {},
   "source": [
    "<div dir=\"rtl\">\n",
    "    <h4>منفی معین</h4>\n",
    "    <h5>با فرض اینکه ماتریس ما منفی معین است، ماتریس A را در x ضرب میکنیم. سپس برای مقدار e، کافی است مینیمم آرایه را در نظر گرفته و برای x جدید، آن را بر e_i تقسیم میکنیم.</h5>\n",
    "</div>"
   ]
  },
  {
   "cell_type": "code",
   "execution_count": 103,
   "metadata": {},
   "outputs": [
    {
     "name": "stdout",
     "output_type": "stream",
     "text": [
      "-8.224179410524645\n"
     ]
    }
   ],
   "source": [
    "e_list_max = np.array([])\n",
    "\n",
    "for i in range(1, n+1):\n",
    "    new_x = np.matmul(A, x)\n",
    "    e_list_max = np.append(e_list_max, new_x.min())\n",
    "    x = np.divide(new_x, e_list_max[-1])\n",
    "\n",
    "lambda_max_negative = e_list_max[-1]\n",
    "\n",
    "print(lambda_max_negative)"
   ]
  },
  {
   "cell_type": "markdown",
   "metadata": {},
   "source": [
    "<div dir=\"rtl\">\n",
    "    <h3>مقدار ماکزیمم نهایی</h3>\n",
    "    <h5>جواب برابر مقداری است که قدر مطلق آن، مقدار بیشتری داشته باشه. پس:</h5>\n",
    "</div>"
   ]
  },
  {
   "cell_type": "code",
   "execution_count": 104,
   "metadata": {},
   "outputs": [
    {
     "name": "stdout",
     "output_type": "stream",
     "text": [
      "Final Lambda Max: 13.035693713353377\n"
     ]
    }
   ],
   "source": [
    "if abs(lambda_max_positive) > abs(lambda_max_negative):\n",
    "    final_lambda_max = lambda_max_positive\n",
    "else:\n",
    "    final_lambda_max = lambda_max_negative\n",
    "\n",
    "print(f\"Final Lambda Max: {final_lambda_max}\")"
   ]
  },
  {
   "cell_type": "markdown",
   "metadata": {},
   "source": [
    "<div dir=\"rtl\">\n",
    "    <h3>روش توانی معکوس</h3>\n",
    "    <h5>حدس اولیه را برابر [1 ,1 ,1] میگیریم</h5>\n",
    "    <h5>در روش توانی، ما مقدار مینیمم را بدست می‌آوریم اما این نکته را در نظر داریم که یک بار فرض میکنیم ماتریس ما، مثبت معین است و یک بار منفی معین. سپس مقادیر را بدست می‌آوریم.</h5>\n",
    "</div>"
   ]
  },
  {
   "cell_type": "code",
   "execution_count": 105,
   "metadata": {},
   "outputs": [],
   "source": [
    "x = np.matrix([\n",
    "    [1],\n",
    "    [1],\n",
    "    [1]\n",
    "])\n",
    "\n",
    "n = 10"
   ]
  },
  {
   "cell_type": "markdown",
   "metadata": {},
   "source": [
    "<div dir=\"rtl\">\n",
    "    <h3>مقدار مینیمم</h3>\n",
    "    <h5>شبیه مورد قبل عمل میکنیم. اما با این تفاوت که معکوس A را در محاسبه در نظر میگیریم و همچنین برای مینیمم، ما در هر گام ماکزمیمم آرایه را در نظر گرفته و در آخر ۱ را بر مقدار نهایی تقسیم میکنیم.</h5>\n",
    "    <h5>در نهایت میتوانیم کمترین مقدار ویژه را بدست آوریم.</h5>\n",
    "</div>"
   ]
  },
  {
   "cell_type": "code",
   "execution_count": 106,
   "metadata": {},
   "outputs": [],
   "source": [
    "import numpy as np\n",
    "\n",
    "A = np.matrix([\n",
    "    [9, -3, -6],\n",
    "    [2, 8, 2],\n",
    "    [-5, 10, 7]\n",
    "])\n",
    "\n",
    "A_inverse = np.linalg.inv(A)"
   ]
  },
  {
   "cell_type": "markdown",
   "metadata": {},
   "source": [
    "<div dir=\"rtl\">\n",
    "    <h4>مثبت معین</h4>\n",
    "    <h5>با فرض اینکه ماتریس ما مثبت معین است، ماتریس معکوس A را در x ضرب میکنیم. سپس برای مقدار e، کافی است ماکزیمم آرایه را در نظر گرفته و برای x جدید، آن را بر e_i تقسیم میکنیم.</h5>\n",
    "</div>"
   ]
  },
  {
   "cell_type": "code",
   "execution_count": 107,
   "metadata": {},
   "outputs": [
    {
     "name": "stdout",
     "output_type": "stream",
     "text": [
      "0.2554373534619695\n"
     ]
    }
   ],
   "source": [
    "e_list_min = np.array([])\n",
    "\n",
    "for i in range(1, n+1):\n",
    "    new_x = np.matmul(A_inverse, x)\n",
    "    e_list_min = np.append(e_list_min, new_x.max())\n",
    "    x = np.divide(new_x, e_list_min[-1])\n",
    "\n",
    "inverse_lambda_min_positive = 1/e_list_min[-1]\n",
    "\n",
    "print(inverse_lambda_min_positive)"
   ]
  },
  {
   "cell_type": "markdown",
   "metadata": {},
   "source": [
    "<div dir=\"rtl\">\n",
    "    <h3>منفی معین</h3>\n",
    "    <h5>با فرض اینکه ماتریس ما منفی معین است، ماتریس معکوس A را در x ضرب میکنیم. سپس برای مقدار e، کافی است مینیمم آرایه را در نظر گرفته و برای x جدید، آن را بر e_i تقسیم میکنیم.</h5>\n",
    "</div>"
   ]
  },
  {
   "cell_type": "code",
   "execution_count": 108,
   "metadata": {},
   "outputs": [
    {
     "name": "stdout",
     "output_type": "stream",
     "text": [
      "-0.10217494138478857\n"
     ]
    }
   ],
   "source": [
    "e_list_min = np.array([])\n",
    "\n",
    "for i in range(1, n+1):\n",
    "    new_x = np.matmul(A_inverse, x)\n",
    "    e_list_min = np.append(e_list_min, new_x.min())\n",
    "    x = np.divide(new_x, e_list_min[-1])\n",
    "\n",
    "inverse_lambda_min_negative = 1/e_list_min[-1]\n",
    "\n",
    "print(inverse_lambda_min_negative)"
   ]
  },
  {
   "cell_type": "markdown",
   "metadata": {},
   "source": [
    "<div dir=\"rtl\">\n",
    "    <h3>مقدار مینیمم نهایی</h3>\n",
    "    <h5>جواب برابر مقداری است که قدر مطلق آن، مقدار کمتری داشته باشه. پس:</h5>\n",
    "</div>"
   ]
  },
  {
   "cell_type": "code",
   "execution_count": 114,
   "metadata": {},
   "outputs": [
    {
     "name": "stdout",
     "output_type": "stream",
     "text": [
      "Final Lambda Min: -0.10217494138478857\n"
     ]
    }
   ],
   "source": [
    "if abs(inverse_lambda_min_positive) > abs(inverse_lambda_min_negative):\n",
    "    final_lambda_min = inverse_lambda_min_negative\n",
    "else:\n",
    "    final_lambda_min = inverse_lambda_min_positive\n",
    "\n",
    "print(f\"Final Lambda Min: {final_lambda_min}\")"
   ]
  }
 ],
 "metadata": {
  "kernelspec": {
   "display_name": "Python 3.10.2 64-bit",
   "language": "python",
   "name": "python3"
  },
  "language_info": {
   "codemirror_mode": {
    "name": "ipython",
    "version": 3
   },
   "file_extension": ".py",
   "mimetype": "text/x-python",
   "name": "python",
   "nbconvert_exporter": "python",
   "pygments_lexer": "ipython3",
   "version": "3.10.2"
  },
  "orig_nbformat": 4,
  "vscode": {
   "interpreter": {
    "hash": "e7370f93d1d0cde622a1f8e1c04877d8463912d04d973331ad4851f04de6915a"
   }
  }
 },
 "nbformat": 4,
 "nbformat_minor": 2
}
